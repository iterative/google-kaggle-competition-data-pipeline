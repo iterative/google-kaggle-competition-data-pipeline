{
 "cells": [
  {
   "cell_type": "code",
   "execution_count": 1,
   "metadata": {},
   "outputs": [],
   "source": [
    "import fiftyone as fo\n",
    "import fiftyone.brain as fob\n",
    "import fiftyone.utils.random as four\n",
    "from fiftyone import ViewField as F\n",
    "\n",
    "from dataset_utils.download_utils import prepare_dataset\n",
    "from dataset_utils.fiftyone_load_utils import load_dataset, split_and_export_manifest\n",
    "from dataset_utils.fiftyone_export_utils import merge_datasets, export_manifest, create_absolute_paths_in_manifest\n",
    "\n",
    "import cv2\n",
    "import json\n",
    "import numpy as np\n",
    "import os\n",
    "from pathlib import Path"
   ]
  },
  {
   "cell_type": "code",
   "execution_count": 2,
   "metadata": {},
   "outputs": [],
   "source": [
    "DATASET_NAME_FOOD = \"food_101_small\"\n",
    "INPUT_IMAGE_PATH_FOOD = Path(\"../food_101_small/\")\n",
    "TRIPLET_FOLDER_FOOD = Path(\"triplets_food_101_small\")\n",
    "\n",
    "DATASET_NAME_130K = \"kaggle_130k\"\n",
    "INPUT_IMAGE_PATH_130K = Path(\"../kaggle_130k/\")\n",
    "TRIPLET_FOLDER_130K = Path(\"triplets_kaggle_130k\")"
   ]
  },
  {
   "cell_type": "markdown",
   "metadata": {},
   "source": [
    "### Load original dataset"
   ]
  },
  {
   "cell_type": "code",
   "execution_count": 3,
   "metadata": {},
   "outputs": [],
   "source": [
    "def load_dataset(dataset_name, dataset_dir=None):\n",
    "    if not fo.dataset_exists(dataset_name):\n",
    "        dataset = fo.Dataset.from_dir(\n",
    "            dataset_dir=Path(dataset_dir, dataset_name),\n",
    "            dataset_type=fo.types.FiftyOneImageClassificationDataset,\n",
    "            name=dataset_name\n",
    "        )\n",
    "    else:\n",
    "        # Loads the FiftyOne dataset with the given name\n",
    "        dataset = fo.load_dataset(dataset_name)\n",
    "    return dataset\n",
    "\n",
    "dataset_food_101 = load_dataset(DATASET_NAME_FOOD, dataset_dir=INPUT_IMAGE_PATH_FOOD.parent)\n",
    "dataset_kaggle_130k = load_dataset(DATASET_NAME_130K, dataset_dir=INPUT_IMAGE_PATH_130K.parent)"
   ]
  },
  {
   "cell_type": "markdown",
   "metadata": {},
   "source": [
    "### Load triplets"
   ]
  },
  {
   "cell_type": "code",
   "execution_count": 6,
   "metadata": {},
   "outputs": [],
   "source": [
    "def load_triplets(triplet_folder):\n",
    "    triplet_files = [p for p in triplet_folder.iterdir() if p.is_file()]\n",
    "\n",
    "    triplets = {}\n",
    "    for triplet_file in triplet_files:\n",
    "        with open(triplet_file) as file:\n",
    "            triplet = json.load(file)\n",
    "            triplets[triplet['label']]=triplet\n",
    "\n",
    "    files_to_triplet = {}\n",
    "    for label, triplet in triplets.items():\n",
    "        for file in triplet['close_positive']:\n",
    "            files_to_triplet.setdefault(str(Path(file)), []).append({\"label\": triplet['label'], \"tag\":\"close_positive\"})\n",
    "        for file in triplet['hard_positive']:\n",
    "            files_to_triplet.setdefault(str(Path(file)), []).append({\"label\": triplet['label'], \"tag\":\"hard_positive\"})\n",
    "        for file in triplet['hard_negative']:\n",
    "            files_to_triplet.setdefault(str(Path(file)), []).append({\"label\": triplet['label'], \"tag\":\"hard_negative\"})\n",
    "            #files_to_triplet[file]=[{\"label\": triplet['label'], \"anchor\":\"xx\", \"tag\":\"close_positive\"}]\n",
    "    \n",
    "    return files_to_triplet\n",
    "\n",
    "\n",
    "files_to_triplet_food = load_triplets(TRIPLET_FOLDER_FOOD)\n",
    "files_to_triplet_130k = load_triplets(TRIPLET_FOLDER_130K)"
   ]
  },
  {
   "cell_type": "markdown",
   "metadata": {},
   "source": [
    "### Add information about similarity tags into dataset"
   ]
  },
  {
   "cell_type": "code",
   "execution_count": 48,
   "metadata": {},
   "outputs": [],
   "source": [
    "def add_similarity_tag_info(dataset, files_to_triplet):\n",
    "    for sample in dataset.iter_samples(autosave=True):\n",
    "        rel_path = str(Path(*list(Path(sample['filepath']).parts[-2:])))\n",
    "        if rel_path in files_to_triplet:\n",
    "            sample['ground_truth']['similarity_tags']=files_to_triplet[rel_path]\n",
    "            sample['ground_truth']['original_source']=str(Path(*list(Path(sample['filepath']).parts[-3:])))\n",
    "\n",
    "add_similarity_tag_info(dataset_food_101, files_to_triplet_food)\n",
    "add_similarity_tag_info(dataset_kaggle_130k, files_to_triplet_130k)"
   ]
  },
  {
   "cell_type": "markdown",
   "metadata": {},
   "source": [
    "### Get only images with some similarity tag"
   ]
  },
  {
   "cell_type": "code",
   "execution_count": 49,
   "metadata": {},
   "outputs": [],
   "source": [
    "dataset_food_101_triplets = dataset_food_101.match(F(\"ground_truth.similarity_tags\").length() > 0)\n",
    "dataset_kaggle_130k_triplets = dataset_kaggle_130k.match(F(\"ground_truth.similarity_tags\").length() > 0)"
   ]
  },
  {
   "cell_type": "markdown",
   "metadata": {},
   "source": [
    "### Merge datasets"
   ]
  },
  {
   "cell_type": "code",
   "execution_count": 51,
   "metadata": {},
   "outputs": [],
   "source": [
    "dataset_merge = merge_datasets([dataset_food_101_triplets, dataset_kaggle_130k_triplets])"
   ]
  },
  {
   "cell_type": "markdown",
   "metadata": {},
   "source": [
    "### Export merged dataset with images"
   ]
  },
  {
   "cell_type": "code",
   "execution_count": 52,
   "metadata": {},
   "outputs": [
    {
     "name": "stdout",
     "output_type": "stream",
     "text": [
      "Directory '.' already exists; export will be merged with existing files\n",
      " 100% |███████████████| 3062/3062 [40.2s elapsed, 0s remaining, 100.9 samples/s]      \n"
     ]
    },
    {
     "name": "stderr",
     "output_type": "stream",
     "text": [
      "Bad pipe message: %s [b'([\\x846\\xc4\\x8c\\xcb\\xcd\\x9f1\\xc0\\x96%*\\xc2m<\\xf8 \\x90\\xb5C\\xae\\xb9)\\xe3\\xb5%{\\x04\\x80\\x0ebJ\\xbf\\x17\\xca!\\xbfm\\xc4\\xa8 \\xc2\\xa6\\xea\\x7f\\xbb\\x93\\t\\xc8\\x00\\x08\\x13\\x02\\x13\\x03\\x13\\x01\\x00\\xff\\x01\\x00\\x00\\x8f\\x00\\x00\\x00\\x0e\\x00\\x0c\\x00\\x00\\t127.0.0.1\\x00\\x0b\\x00\\x04\\x03\\x00\\x01\\x02\\x00\\n\\x00\\x0c\\x00\\n\\x00\\x1d\\x00\\x17\\x00\\x1e\\x00\\x19\\x00\\x18\\x00#\\x00\\x00\\x00\\x16\\x00\\x00\\x00\\x17\\x00\\x00\\x00\\r\\x00\\x1e\\x00\\x1c\\x04\\x03\\x05\\x03\\x06\\x03\\x08\\x07\\x08\\x08\\x08\\t\\x08\\n\\x08\\x0b\\x08\\x04\\x08\\x05\\x08\\x06\\x04\\x01\\x05\\x01\\x06\\x01\\x00+\\x00\\x03\\x02\\x03\\x04\\x00-\\x00\\x02\\x01\\x01\\x003\\x00&\\x00$\\x00']\n",
      "Bad pipe message: %s [b' \\x86\\x0c al\\xde\\xb9\\xa8\\x83d\\xc5\\xbc\\xb7*\\xafS\\xd8I\\xea\\x074)m\\xf1\"\\xf02']\n",
      "Bad pipe message: %s [b'D\\xe6\\x8c\\xe0:,\\x05e_\\xd0^=t@\\xa7\\x8b\\xfe\\x10 ~\\xa9\\x02c\\x82X\\x11Cer\\x86\\x8bU?\\x16y\\x17\\xb31\\xc1\\xb6\\x03\\xbe\\xf69t{Iy:\\xf1_\\x00\\x08\\x13\\x02\\x13\\x03\\x13\\x01\\x00\\xff\\x01\\x00\\x00\\x8f\\x00\\x00\\x00\\x0e\\x00\\x0c\\x00\\x00\\t127.0.0.1\\x00\\x0b\\x00\\x04\\x03\\x00\\x01\\x02\\x00\\n\\x00\\x0c\\x00\\n\\x00\\x1d\\x00\\x17\\x00\\x1e\\x00\\x19\\x00\\x18\\x00#\\x00\\x00\\x00\\x16\\x00\\x00\\x00\\x17\\x00\\x00\\x00\\r\\x00\\x1e\\x00\\x1c\\x04\\x03\\x05\\x03\\x06\\x03\\x08\\x07\\x08\\x08\\x08\\t\\x08\\n\\x08\\x0b\\x08\\x04\\x08\\x05\\x08\\x06\\x04\\x01\\x05\\x01\\x06\\x01\\x00+\\x00\\x03\\x02\\x03\\x04\\x00-\\x00\\x02\\x01\\x01\\x003\\x00&\\x00$\\x00\\x1d\\x00 \\xc3fB\\xf2\\x99\\x87-\\x92X\\x9f\\xaf\\x97O\\x03']\n",
      "Bad pipe message: %s [b\"\\xc2\\xd3(\\x83\\x8e\\xba=\\x82V\\xf6O\\xd0\\xc3\\x9a8Y0\\xd3\\x00\\x00|\\xc0,\\xc00\\x00\\xa3\\x00\\x9f\\xcc\\xa9\\xcc\\xa8\\xcc\\xaa\\xc0\\xaf\\xc0\\xad\\xc0\\xa3\\xc0\\x9f\\xc0]\\xc0a\\xc0W\\xc0S\\xc0+\\xc0/\\x00\\xa2\\x00\\x9e\\xc0\\xae\\xc0\\xac\\xc0\\xa2\\xc0\\x9e\\xc0\\\\\\xc0`\\xc0V\\xc0R\\xc0$\\xc0(\\x00k\\x00j\\xc0#\\xc0'\\x00g\\x00@\\xc0\\n\\xc0\\x14\\x009\\x008\\xc0\\t\\xc0\\x13\\x003\\x002\\x00\\x9d\\xc0\\xa1\\xc0\\x9d\\xc0Q\\x00\\x9c\\xc0\\xa0\\xc0\\x9c\\xc0P\\x00=\\x00<\\x005\\x00/\\x00\\x9a\\x00\\x99\\xc0\\x07\\xc0\\x11\\x00\\x96\\x00\\x05\\x00\\xff\\x01\\x00\\x00j\\x00\\x00\\x00\\x0e\\x00\\x0c\\x00\\x00\\t127.0.0.1\\x00\\x0b\\x00\\x04\\x03\\x00\\x01\\x02\\x00\\n\\x00\\x0c\\x00\\n\\x00\\x1d\\x00\\x17\\x00\\x1e\\x00\\x19\\x00\\x18\\x00#\\x00\\x00\\x00\\x16\\x00\\x00\\x00\\x17\\x00\\x00\\x00\\r\\x000\\x00.\\x04\\x03\\x05\\x03\\x06\\x03\"]\n",
      "Bad pipe message: %s [b\"!\\x13\\xa9O*\\x80\\x86c\\x15\\xb2}w\\xc2\\xca\\x19\\\\\\x8b\\x13\\x00\\x00\\xf4\\xc00\\xc0,\\xc0(\\xc0$\\xc0\\x14\\xc0\\n\\x00\\xa5\\x00\\xa3\\x00\\xa1\\x00\\x9f\\x00k\\x00j\\x00i\\x00h\\x009\\x008\\x007\\x006\\x00\\x88\\x00\\x87\\x00\\x86\\x00\\x85\\xc0\\x19\\x00\\xa7\\x00m\\x00:\\x00\\x89\\xc02\\xc0.\\xc0*\\xc0&\\xc0\\x0f\\xc0\\x05\\x00\\x9d\\x00=\\x005\\x00\\x84\\xc0/\\xc0+\\xc0'\\xc0#\\xc0\\x13\\xc0\\t\\x00\\xa4\\x00\\xa2\\x00\\xa0\\x00\\x9e\\x00g\\x00@\\x00?\\x00>\\x003\\x002\\x001\\x000\\x00\\x9a\\x00\\x99\\x00\\x98\\x00\\x97\\x00E\\x00D\\x00C\\x00B\\xc0\\x18\\x00\\xa6\\x00l\\x004\\x00\\x9b\\x00F\\xc01\\xc0-\\xc0)\\xc0%\\xc0\\x0e\\xc0\\x04\\x00\\x9c\\x00<\\x00/\\x00\\x96\\x00A\\x00\\x07\\xc0\\x11\\xc0\\x07\\xc0\\x16\\x00\\x18\\xc0\\x0c\\xc0\\x02\\x00\\x05\\x00\\x04\\xc0\\x12\"]\n",
      "Bad pipe message: %s [b\"n\\xd7\\x87r\\x19[^Jg\\xf9\\xc0f\\xcc\\xda\\xff\\xcd\\x8eq\\x00\\x00\\x86\\xc00\\xc0,\\xc0(\\xc0$\\xc0\\x14\\xc0\\n\\x00\\xa5\\x00\\xa3\\x00\\xa1\\x00\\x9f\\x00k\\x00j\\x00i\\x00h\\x009\\x008\\x007\\x006\\xc02\\xc0.\\xc0*\\xc0&\\xc0\\x0f\\xc0\\x05\\x00\\x9d\\x00=\\x005\\xc0/\\xc0+\\xc0'\\xc0#\\xc0\\x13\\xc0\\t\\x00\\xa4\\x00\\xa2\\x00\\xa0\\x00\\x9e\\x00g\\x00@\\x00?\\x00>\\x003\\x002\\x001\\x000\\xc01\\xc0-\\xc0)\\xc0%\\xc0\\x0e\\xc0\\x04\\x00\\x9c\\x00<\\x00/\\x00\\x9a\\x00\\x99\\x00\\x98\\x00\\x97\\x00\\x96\\x00\\x07\\xc0\\x11\\xc0\\x07\\xc0\\x0c\\xc0\\x02\\x00\\x05\\x00\\x04\\x00\\xff\\x02\\x01\\x00\\x00g\\x00\\x00\\x00\\x0e\\x00\\x0c\\x00\\x00\\t127.0.0.1\\x00\\x0b\\x00\\x04\\x03\\x00\\x01\\x02\\x00\"]\n",
      "Bad pipe message: %s [b'\\xacg\\x0f\\xb1\\x96\\xaf`\\x94\\xc0m\\x93\\x84\\xb0\\x1aW\\x08\\xce\\x83\\x00\\x00\\xa2\\xc0\\x14\\xc0\\n\\x009\\x008\\x007\\x006\\x00\\x88\\x00\\x87\\x00\\x86\\x00\\x85\\xc0\\x19\\x00:\\x00\\x89\\xc0\\x0f\\xc0\\x05\\x005\\x00\\x84\\xc0\\x13\\xc0\\t\\x003\\x002\\x001\\x000\\x00\\x9a\\x00\\x99\\x00\\x98\\x00\\x97\\x00E\\x00D\\x00C\\x00B\\xc0\\x18\\x004']\n",
      "Bad pipe message: %s [b'[\\xaf\\x9c~;\\xeb\\xa3Y\\xdf\\x1aB95\\x84\\x856*z\\x00\\x00\\xa2\\xc0\\x14\\xc0\\n\\x009\\x008\\x007\\x006\\x00\\x88\\x00\\x87\\x00\\x86\\x00\\x85\\xc0\\x19\\x00:\\x00\\x89\\xc0\\x0f\\xc0\\x05\\x005\\x00\\x84\\xc0\\x13\\xc0\\t\\x003\\x002\\x001\\x000\\x00\\x9a\\x00\\x99\\x00\\x98\\x00\\x97\\x00E\\x00D\\x00C\\x00B\\xc0\\x18\\x004\\x00\\x9b\\x00F\\xc0\\x0e\\xc0\\x04\\x00/\\x00\\x96\\x00A\\x00\\x07\\xc0\\x11\\xc0\\x07\\xc0\\x16\\x00\\x18\\xc0\\x0c\\xc0\\x02\\x00\\x05\\x00\\x04\\xc0\\x12\\xc0\\x08\\x00\\x16\\x00\\x13\\x00\\x10\\x00\\r\\xc0\\x17\\x00\\x1b\\xc0\\r\\xc0\\x03\\x00', b'\\x15\\x00\\x12\\x00\\x0f\\x00\\x0c\\x00\\x1a']\n",
      "Bad pipe message: %s [b'\\x94\\r&\\xa5\\xc1I\\xbb\\xf7|5\\xee`\\xac\\xaa\\xb0i\\xe7\\xef\\x00\\x00\\xa2\\xc0\\x14\\xc0\\n\\x009\\x008\\x007\\x006\\x00\\x88\\x00\\x87\\x00\\x86\\x00\\x85\\xc0\\x19\\x00:\\x00\\x89\\xc0\\x0f\\xc0\\x05\\x005\\x00\\x84\\xc0\\x13\\xc0\\t\\x003\\x002\\x001\\x000\\x00\\x9a\\x00\\x99\\x00\\x98\\x00\\x97\\x00E\\x00D\\x00C\\x00B\\xc0\\x18\\x004\\x00\\x9b\\x00F\\xc0\\x0e\\xc0\\x04\\x00/\\x00\\x96\\x00A\\x00\\x07\\xc0\\x11\\xc0\\x07\\xc0\\x16\\x00\\x18\\xc0\\x0c\\xc0\\x02\\x00\\x05\\x00\\x04\\xc0\\x12']\n",
      "Bad pipe message: %s [b'\\x17M?\\xcd+\\xd1}^5\\xad\\x7f\\xc4']\n",
      "Bad pipe message: %s [b'\\x1c\\x00\\x1a\\x00\\x17\\x00\\x19\\x00\\x1c']\n",
      "Bad pipe message: %s [b'\\x08\\x08\\x08\\t\\x08\\n\\x08', b'\\x04\\x08\\x05\\x08\\x06\\x04\\x01\\x05\\x01\\x06']\n",
      "Bad pipe message: %s [b'', b'\\x03\\x03']\n",
      "Bad pipe message: %s [b'']\n",
      "Bad pipe message: %s [b'', b'\\x02']\n",
      "Bad pipe message: %s [b'\\x05\\x02\\x06']\n"
     ]
    }
   ],
   "source": [
    "dataset_merge.export(\n",
    "    export_dir=str(Path(\"\")),\n",
    "    dataset_type=fo.types.FiftyOneImageClassificationDataset,\n",
    "    include_attributes=['similarity_tags', 'original_source'],\n",
    "    export_media=True,\n",
    "    overwrite=False\n",
    ")"
   ]
  }
 ],
 "metadata": {
  "kernelspec": {
   "display_name": "Python 3.10.4 64-bit",
   "language": "python",
   "name": "python3"
  },
  "language_info": {
   "codemirror_mode": {
    "name": "ipython",
    "version": 3
   },
   "file_extension": ".py",
   "mimetype": "text/x-python",
   "name": "python",
   "nbconvert_exporter": "python",
   "pygments_lexer": "ipython3",
   "version": "3.10.4"
  },
  "orig_nbformat": 4,
  "vscode": {
   "interpreter": {
    "hash": "3ad933181bd8a04b432d3370b9dc3b0662ad032c4dfaa4e4f1596c548f763858"
   }
  }
 },
 "nbformat": 4,
 "nbformat_minor": 2
}
