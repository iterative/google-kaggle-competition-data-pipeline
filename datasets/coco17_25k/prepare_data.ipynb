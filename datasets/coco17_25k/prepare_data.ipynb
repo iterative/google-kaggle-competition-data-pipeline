{
 "cells": [
  {
   "cell_type": "code",
   "execution_count": 1,
   "metadata": {},
   "outputs": [],
   "source": [
    "# Download the '2017 Train images' dataset from https://cocodataset.org/#download\n",
    "# Download labels for subsample of images (25k images) from https://github.com/giddyyupp/coco-minitrain"
   ]
  },
  {
   "cell_type": "code",
   "execution_count": null,
   "metadata": {},
   "outputs": [],
   "source": [
    "import glob\n",
    "import os\n",
    "import csv\n",
    "# import pandas as pd\n",
    "import json\n",
    "from pathlib import Path\n",
    "from PIL import Image\n",
    "import shutil\n",
    "import random\n",
    "from tqdm import tqdm\n",
    "\n",
    "import cv2\n",
    "import fiftyone as fo\n",
    "import fiftyone.brain as fob\n",
    "import fiftyone.utils.random as four\n",
    "from fiftyone.utils.image import transform_images\n",
    "from fiftyone import ViewField as F\n",
    "import json\n",
    "import numpy as np\n",
    "from pathlib import Path"
   ]
  },
  {
   "cell_type": "code",
   "execution_count": null,
   "metadata": {},
   "outputs": [],
   "source": [
    "path_to_images = Path(\"Coco17/train2017\")\n",
    "path_to_labels = Path(\"Coco17/instances_minitrain2017.json\")\n",
    "\n",
    "dataset = fo.Dataset.from_dir(\n",
    "    data_path=path_to_images,\n",
    "    labels_path=path_to_labels,\n",
    "    dataset_type=fo.types.COCODetectionDataset,\n",
    "    name=\"coco17\",\n",
    ")"
   ]
  },
  {
   "cell_type": "code",
   "execution_count": null,
   "metadata": {},
   "outputs": [],
   "source": [
    "# Export images only for the mini-sample"
   ]
  },
  {
   "cell_type": "code",
   "execution_count": null,
   "metadata": {},
   "outputs": [],
   "source": [
    "dataset.export(export_dir=str(Path(\"Coco17/mini_train2017/\")), \n",
    "                dataset_type=fo.types.COCODetectionDataset,\n",
    "                export_media=True,\n",
    "                overwrite=True) "
   ]
  },
  {
   "cell_type": "code",
   "execution_count": 2,
   "metadata": {},
   "outputs": [],
   "source": [
    "# Now load only mini-sample and change resolution for each image"
   ]
  },
  {
   "cell_type": "code",
   "execution_count": null,
   "metadata": {},
   "outputs": [],
   "source": [
    "dataset_sample = fo.Dataset.from_dir(\n",
    "    data_path=str(Path(\"Coco17/mini_train2017/\")),\n",
    "    dataset_type=fo.types.COCODetectionDataset,\n",
    "    name=\"coco17_sample\",\n",
    ")\n"
   ]
  },
  {
   "cell_type": "code",
   "execution_count": null,
   "metadata": {},
   "outputs": [],
   "source": [
    "out=transform_images(dataset_sample, max_size=(-1, 300), num_workers=1)\n",
    "dataset_sample.compute_metadata(overwrite=True)"
   ]
  },
  {
   "cell_type": "code",
   "execution_count": null,
   "metadata": {},
   "outputs": [],
   "source": [
    "# Now export only the changed index file with metadata"
   ]
  },
  {
   "cell_type": "code",
   "execution_count": null,
   "metadata": {},
   "outputs": [],
   "source": [
    "dataset_sample.export(export_dir=str(Path(\"Coco17/mini_train2017/\")), \n",
    "                dataset_type=fo.types.COCODetectionDataset,\n",
    "                export_media=False,\n",
    "                overwrite=False) "
   ]
  }
 ],
 "metadata": {
  "kernelspec": {
   "display_name": "Python 3.10.4 64-bit",
   "language": "python",
   "name": "python3"
  },
  "language_info": {
   "codemirror_mode": {
    "name": "ipython",
    "version": 3
   },
   "file_extension": ".py",
   "mimetype": "text/x-python",
   "name": "python",
   "nbconvert_exporter": "python",
   "pygments_lexer": "ipython3",
   "version": "3.10.4"
  },
  "orig_nbformat": 4,
  "vscode": {
   "interpreter": {
    "hash": "4f946df053fbf2b937619d3c5458e7af74262f9a954d8797ba0b27400bcafe06"
   }
  }
 },
 "nbformat": 4,
 "nbformat_minor": 2
}
