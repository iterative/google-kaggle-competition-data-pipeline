{
 "cells": [
  {
   "cell_type": "code",
   "execution_count": 6,
   "metadata": {},
   "outputs": [],
   "source": [
    "from pathlib import Path\n",
    "\n",
    "from dataset_utils.download_utils import prepare_dataset\n",
    "from dataset_utils.fiftyone_load_utils import load_and_split_dataset"
   ]
  },
  {
   "cell_type": "markdown",
   "metadata": {},
   "source": [
    "#### Download the dataset to your local folder"
   ]
  },
  {
   "cell_type": "code",
   "execution_count": 2,
   "metadata": {},
   "outputs": [],
   "source": [
    "# Specify which dataset to download\n",
    "\n",
    "dataset_name=\"vision_furniture\"\n",
    "dataset_path=Path(\"../datasets/vision_furniture/\")\n",
    "exported_manifest_folder=Path(f\"../data/{dataset_name}/\")"
   ]
  },
  {
   "cell_type": "code",
   "execution_count": 5,
   "metadata": {},
   "outputs": [],
   "source": [
    "prepare_dataset(dataset_name=dataset_name, output_path=dataset_path)\n",
    "\n",
    "# In case you would like to donwload only certain partitions, you specify them in the list\n",
    "#prepare_dataset(dataset_name=dataset_name, output_path=dataset_path, partitions=[0, 1, 3])"
   ]
  },
  {
   "cell_type": "markdown",
   "metadata": {},
   "source": [
    "#### Split dataset to train, val, test sets and export the manifests"
   ]
  },
  {
   "cell_type": "code",
   "execution_count": 7,
   "metadata": {},
   "outputs": [
    {
     "name": "stdout",
     "output_type": "stream",
     "text": [
      " 100% |███████████████| 3891/3891 [2.2s elapsed, 0s remaining, 1.8K samples/s]         \n",
      " 100% |███████████████| 1297/1297 [580.6ms elapsed, 0s remaining, 2.2K samples/s]      \n",
      " 100% |███████████████| 1297/1297 [1.0s elapsed, 0s remaining, 1.4K samples/s]          \n"
     ]
    }
   ],
   "source": [
    "\n",
    "load_and_split_dataset(dataset_name=dataset_name,\n",
    "                        export_dir=exported_manifest_folder,\n",
    "                        dataset_path=dataset_path,\n",
    "                        split_ratio=[0.6,0.2,0.2],\n",
    "                        seed=51\n",
    "                        )"
   ]
  },
  {
   "cell_type": "markdown",
   "metadata": {},
   "source": [
    "#### Once you generate labels.json and manifest.json files, you can load them into PyTorch with Custom data loader as follows:"
   ]
  },
  {
   "cell_type": "code",
   "execution_count": null,
   "metadata": {},
   "outputs": [],
   "source": [
    "from dataset_utils.pytorch_utils import FiftyOneTorchDataset\n",
    "\n",
    "train_dataset = FiftyOneTorchDataset(exported_manifest_folder, transform=ToTensor())\n",
    "val_dataset = FiftyOneTorchDataset(exported_manifest_folder, transform=ToTensor())"
   ]
  }
 ],
 "metadata": {
  "kernelspec": {
   "display_name": "Python 3.10.4 64-bit",
   "language": "python",
   "name": "python3"
  },
  "language_info": {
   "codemirror_mode": {
    "name": "ipython",
    "version": 3
   },
   "file_extension": ".py",
   "mimetype": "text/x-python",
   "name": "python",
   "nbconvert_exporter": "python",
   "pygments_lexer": "ipython3",
   "version": "3.10.4"
  },
  "orig_nbformat": 4,
  "vscode": {
   "interpreter": {
    "hash": "4f946df053fbf2b937619d3c5458e7af74262f9a954d8797ba0b27400bcafe06"
   }
  }
 },
 "nbformat": 4,
 "nbformat_minor": 2
}
